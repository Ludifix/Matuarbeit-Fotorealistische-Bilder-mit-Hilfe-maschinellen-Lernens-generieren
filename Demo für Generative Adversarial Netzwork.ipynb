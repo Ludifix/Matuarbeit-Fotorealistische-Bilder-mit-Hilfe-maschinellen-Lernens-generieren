{
  "nbformat": 4,
  "nbformat_minor": 0,
  "metadata": {
    "colab": {
      "name": "Demo für mein Generative Adversarial Netzwork.ipynb",
      "provenance": [],
      "collapsed_sections": [],
      "toc_visible": true,
      "include_colab_link": true
    },
    "kernelspec": {
      "name": "python3",
      "display_name": "Python 3"
    }
  },
  "cells": [
    {
      "cell_type": "markdown",
      "metadata": {
        "id": "view-in-github",
        "colab_type": "text"
      },
      "source": [
        "<a href=\"https://colab.research.google.com/github/Ludifix/Matuarbeit-Fotorealistische-Bilder-mit-Hilfe-maschinellen-Lernens-generieren/blob/master/Demo%20f%C3%BCr%20Generative%20Adversarial%20Netzwork.ipynb\" target=\"_parent\"><img src=\"https://colab.research.google.com/assets/colab-badge.svg\" alt=\"Open In Colab\"/></a>"
      ]
    },
    {
      "cell_type": "markdown",
      "metadata": {
        "id": "pvghNmhxRhdu",
        "colab_type": "text"
      },
      "source": [
        "# **Demo für Generative Adversarial Netzwork (GAN)**\n",
      ]
    },
    {
      "cell_type": "markdown",
      "metadata": {
        "id": "N6A66Zw_Rvqj",
        "colab_type": "text"
      },
      "source": [
        "## Imports"
      ]
    },
    {
      "cell_type": "code",
      "metadata": {
        "id": "GdLVzvb7RYhj",
        "colab_type": "code",
        "outputId": "9ccc82bb-fa00-4a84-b5a4-572e2374c360",
        "colab": {
          "base_uri": "https://localhost:8080/",
          "height": 34
        }
      },
      "source": [
        "%tensorflow_version 2.x\n",
        "import tensorflow as tf\n",
        "\n",
        "import numpy as np\n",
        "import matplotlib.pyplot as plt\n"
      ],
      "execution_count": 1,
      "outputs": [
        {
          "output_type": "stream",
          "text": [
            "TensorFlow 2.x selected.\n"
          ],
          "name": "stdout"
        }
      ]
    },
    {
      "cell_type": "markdown",
      "metadata": {
        "id": "weondZzuTTBZ",
        "colab_type": "text"
      },
      "source": [
        "## Netzwerke definieren"
      ]
    },
    {
      "cell_type": "markdown",
      "metadata": {
        "id": "wWTrp5bnTXIP",
        "colab_type": "text"
      },
      "source": [
        "### Generator"
      ]
    },
    {
      "cell_type": "code",
      "metadata": {
        "id": "JKycqBV3TdiW",
        "colab_type": "code",
        "colab": {}
      },
      "source": [
        "from tensorflow.keras.layers import Dense, Conv2DTranspose, BatchNormalization, LeakyReLU, Reshape\n",
        "\n",
        "class Generator(tf.keras.Model):\n",
        "\n",
        "    def __init__(self, random_noise_size=100):\n",
        "        super().__init__(name=\"generator\")\n",
        "\n",
        "        # Schichten für das Netzwerk\n",
        "        self.dense_1 = Dense(units=4*4*256, input_shape=(random_noise_size,))\n",
        "        self.reshape_1 = Reshape((4, 4, 256))\n",
        "\n",
        "        self.conv2dtranspose_1 = Conv2DTranspose(\n",
        "            filters=128, kernel_size=5, strides=(2, 2), padding='same')\n",
        "        self.batchnorm_1 = BatchNormalization()\n",
        "        self.relu_1 = ReLU()\n",
        "\n",
        "        self.conv2dtranspose_2 = Conv2DTranspose(\n",
        "            filters=64, kernel_size=5, strides=(2, 2), padding='same')\n",
        "        self.batchnorm_2 = BatchNormalization()\n",
        "        self.relu_2 = ReLU()\n",
        "\n",
        "        self.conv2dtranspose_3 = Conv2DTranspose(\n",
        "            filters=32, kernel_size=5, strides=(2, 2), padding='same')\n",
        "        self.batchnorm_3 = BatchNormalization()\n",
        "        self.relu_3 = ReLU()\n",
        "\n",
        "        self.output_layer = Conv2DTranspose(\n",
        "            filters=3, kernel_size=5, strides=(2, 2), padding='same', activation='tanh')\n",
        "\n",
        "    def call(self, input_tensor):\n",
        "       # Definition des Netzwerks\n",
        "\n",
        "        x = self.dense_1(input_tensor)\n",
        "        x = self.reshape_1(x)\n",
        "        # (4, 4, 256)\n",
        "        x = self.conv2dtranspose_1(x)\n",
        "        x = self.batchnorm_1(x)\n",
        "        x = self.relu_1(x)\n",
        "        # (8, 8, 128)\n",
        "        x = self.conv2dtranspose_2(x)\n",
        "        x = self.batchnorm_2(x)\n",
        "        x = self.relu_2(x)\n",
        "        # (16, 16, 64)\n",
        "        x = self.conv2dtranspose_3(x)\n",
        "        x = self.batchnorm_3(x)\n",
        "        x = self.relu_3(x)\n",
        "        # (32, 32, 32)\n",
        "        x = self.output_layer(x)  # (64, 64, 3)\n",
        "        return x\n",
        "\n",
        "    def generate_noise(self, batch_size, random_noise_size):\n",
        "        noise = np.random.uniform(-1, 1, size=(batch_size, random_noise_size))\n",
        "        return noise\n"
      ],
      "execution_count": 0,
      "outputs": []
    },
    {
      "cell_type": "markdown",
      "metadata": {
        "id": "0VRKMs_WTe9d",
        "colab_type": "text"
      },
      "source": [
        "### Diskriminator"
      ]
    },
    {
      "cell_type": "code",
      "metadata": {
        "id": "IUC7HF9YY9P0",
        "colab_type": "code",
        "colab": {}
      },
      "source": [
        "from tensorflow.keras.layers import Conv2D, ReLU, Flatten, Dense\n",
        "\n",
        "class Discriminator(tf.keras.Model):\n",
        "    def __init__(self):\n",
        "        super().__init__(name=\"discriminator\")\n",
        "\n",
        "        # Schichten für das Netzwerk\n",
        "        self.input_layer = Conv2D(filters=32, kernel_size=5, strides=(\n",
        "            2, 2), padding='same', input_shape=(64, 64, 3))\n",
        "        self.leaky_0 = LeakyReLU(alpha=0.2)\n",
        "\n",
        "        self.conv2d_1 = Conv2D(filters=64, kernel_size=5,\n",
        "                               strides=(2, 2), padding='same')\n",
        "        self.batch_norm_1 = BatchNormalization()\n",
        "        self.leaky_1 = LeakyReLU(alpha=0.2)\n",
        "\n",
        "        self.conv2d_2 = Conv2D(filters=128, kernel_size=5,\n",
        "                               strides=(2, 2), padding='same')\n",
        "        self.batch_norm_2 = BatchNormalization()\n",
        "        self.leaky_2 = LeakyReLU(alpha=0.2)\n",
        "\n",
        "        self.conv2d_3 = Conv2D(filters=256, kernel_size=5,\n",
        "                               strides=(2, 2), padding='same')\n",
        "        self.batch_norm_3 = BatchNormalization()\n",
        "        self.leaky_3 = LeakyReLU(alpha=0.2)\n",
        "\n",
        "        self.flatten = Flatten()\n",
        "        self.logits = Dense(units=1, activation='linear')\n",
        "\n",
        "    def call(self, input_tensor):\n",
        "        # Definition des Netzwerks\n",
        "        x = self.input_layer(input_tensor)\n",
        "        x = self.leaky_0(x)\n",
        "        # (32, 32, 32)\n",
        "        x = self.conv2d_1(x)\n",
        "        x = self.batch_norm_1(x)\n",
        "        x = self.leaky_1(x)\n",
        "        # (16, 16, 64)\n",
        "        x = self.conv2d_2(x)\n",
        "        x = self.batch_norm_2(x)\n",
        "        x = self.leaky_2(x)\n",
        "        # (8, 8, 128)\n",
        "        x = self.conv2d_3(x)\n",
        "        x = self.batch_norm_3(x)\n",
        "        x = self.leaky_3(x)\n",
        "        # (4, 4, 256)\n",
        "        x = self.flatten(x)\n",
        "        x = self.logits(x)\n",
        "        # (1, )\n",
        "        return x"
      ],
      "execution_count": 0,
      "outputs": []
    },
    {
      "cell_type": "code",
      "metadata": {
        "id": "BWtwiC_maZ1x",
        "colab_type": "code",
        "colab": {}
      },
      "source": [
        "generator = Generator()\n",
        "discriminator = Discriminator()"
      ],
      "execution_count": 0,
      "outputs": []
    },
    {
      "cell_type": "markdown",
      "metadata": {
        "id": "MElT_3qMhF63",
        "colab_type": "text"
      },
      "source": [
        "Ausgabe eines untrainierten Netzwerkes."
      ]
    },
    {
      "cell_type": "code",
      "metadata": {
        "id": "E6HGAaK_g6Ly",
        "colab_type": "code",
        "outputId": "bf3c8c50-434f-4fd4-c2d3-99bbc39107e1",
        "colab": {
          "base_uri": "https://localhost:8080/",
          "height": 285
        }
      },
      "source": [
        "# Testing the Generator\n",
        "noise = generator.generate_noise(batch_size=1, random_noise_size=100)\n",
        "fake_image = generator.predict(noise)\n",
        "fake_image = (fake_image + 1) / 2\n",
        "fake_image = np.clip(fake_image, 0, 1)\n",
        "plt.imshow(fake_image[0], cmap=None)\n",
        "plt.show()\n",
        "\n",
        "# Testing the Discriminator\n",
        "guess = discriminator.predict(fake_image)[0][0]\n",
        "print(guess)"
      ],
      "execution_count": 5,
      "outputs": [
        {
          "output_type": "display_data",
          "data": {
            "image/png": "iVBORw0KGgoAAAANSUhEUgAAAPsAAAD7CAYAAACscuKmAAAABHNCSVQICAgIfAhkiAAAAAlwSFlz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\n",
            "text/plain": [
              "<Figure size 432x288 with 1 Axes>"
            ]
          },
          "metadata": {
            "tags": []
          }
        },
        {
          "output_type": "stream",
          "text": [
            "-0.04323881\n"
          ],
          "name": "stdout"
        }
      ]
    },
    {
      "cell_type": "markdown",
      "metadata": {
        "id": "-GrX68niaCQp",
        "colab_type": "text"
      },
      "source": [
        "## Gewichte eines trainierten Netzwerkes laden"
      ]
    },
    {
      "cell_type": "markdown",
      "metadata": {
        "id": "n_fOIRPHe9pF",
        "colab_type": "text"
      },
      "source": [
        "Nach 150 Epochen (1h 15min)"
      ]
    },
    {
      "cell_type": "code",
      "metadata": {
        "id": "S-6YluLvaTFC",
        "colab_type": "code",
        "colab": {}
      },
      "source": [
        "generator.load_weights(\"generator.h5\")\n",
        "discriminator.load_weights(\"discriminator.h5\")"
      ],
      "execution_count": 0,
      "outputs": []
    },
    {
      "cell_type": "markdown",
      "metadata": {
        "id": "ppmN3oKyamOW",
        "colab_type": "text"
      },
      "source": [
        "# Netzwerk ausführen"
      ]
    },
    {
      "cell_type": "code",
      "metadata": {
        "id": "DmaTq6J8alHJ",
        "colab_type": "code",
        "outputId": "b2da4559-f84f-4608-ec47-d748d72890f8",
        "colab": {
          "base_uri": "https://localhost:8080/",
          "height": 302
        }
      },
      "source": [
        "# Testing the Generator\n",
        "noise = generator.generate_noise(batch_size=1, random_noise_size=100)\n",
        "fake_image = generator.predict(noise)\n",
        "fake_image = (fake_image + 1) / 2\n",
        "fake_image = np.clip(fake_image, 0, 1)\n",
        "\n",
        "#plt.imshow(tf.image.resize(fake_image, (218, 178))[0], cmap=None)\n",
        "plt.imshow(fake_image[0], cmap=None)\n",
        "plt.show()\n",
        "\n",
        "# Testing the Discriminator\n",
        "guess = discriminator.predict(fake_image)[0][0]\n",
        "print(\"Echt\" if guess > 0 else f\"Fake\")\n",
        "print(guess)\n"
      ],
      "execution_count": 16,
      "outputs": [
        {
          "output_type": "display_data",
          "data": {
            "image/png": "iVBORw0KGgoAAAANSUhEUgAAAPsAAAD7CAYAAACscuKmAAAABHNCSVQICAgIfAhkiAAAAAlwSFlz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\nBlMC87AbGEwJzMNuYDAlMA+7gcGU4P8H2c9Fbbtwym0AAAAASUVORK5CYII=\n",
            "text/plain": [
              "<Figure size 432x288 with 1 Axes>"
            ]
          },
          "metadata": {
            "tags": []
          }
        },
        {
          "output_type": "stream",
          "text": [
            "Fake\n",
            "-2.2275805\n"
          ],
          "name": "stdout"
        }
      ]
    }
  ]
}
