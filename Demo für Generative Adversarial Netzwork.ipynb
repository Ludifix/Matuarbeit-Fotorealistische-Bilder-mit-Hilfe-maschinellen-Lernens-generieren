{
  "nbformat": 4,
  "nbformat_minor": 0,
  "metadata": {
    "colab": {
      "name": "Demo für mein Generative Adversarial Netzwork.ipynb",
      "provenance": [],
      "collapsed_sections": [],
      "toc_visible": true,
      "include_colab_link": true
    },
    "kernelspec": {
      "name": "python3",
      "display_name": "Python 3"
    }
  },
  "cells": [
    {
      "cell_type": "markdown",
      "metadata": {
        "id": "view-in-github",
        "colab_type": "text"
      },
      "source": [
        "<a href=\"https://colab.research.google.com/github/Ludifix/Matuarbeit-Fotorealistische-Bilder-mit-Hilfe-maschinellen-Lernens-generieren/blob/master/Demo_f%C3%BCr_mein_Generative_Adversarial_Netzwork.ipynb\" target=\"_parent\"><img src=\"https://colab.research.google.com/assets/colab-badge.svg\" alt=\"Open In Colab\"/></a>"
      ]
    },
    {
      "cell_type": "markdown",
      "metadata": {
        "id": "pvghNmhxRhdu",
        "colab_type": "text"
      },
      "source": [
        "# **Demo für Generative Adversarial Netzwork (GAN)**\n"
      ]
    },
    {
      "cell_type": "markdown",
      "metadata": {
        "id": "N6A66Zw_Rvqj",
        "colab_type": "text"
      },
      "source": [
        "## Imports"
      ]
    },
    {
      "cell_type": "code",
      "metadata": {
        "id": "GdLVzvb7RYhj",
        "colab_type": "code",
        "outputId": "e8bc32de-161f-4697-8b0a-b6943dbfdc85",
        "colab": {
          "base_uri": "https://localhost:8080/",
          "height": 34
        }
      },
      "source": [
        "%tensorflow_version 2.x\n",
        "import tensorflow as tf\n",
        "\n",
        "import numpy as np\n",
        "import matplotlib.pyplot as plt\n"
      ],
      "execution_count": 0,
      "outputs": [
        {
          "output_type": "stream",
          "text": [
            "TensorFlow 2.x selected.\n"
          ],
          "name": "stdout"
        }
      ]
    },
    {
      "cell_type": "markdown",
      "metadata": {
        "id": "weondZzuTTBZ",
        "colab_type": "text"
      },
      "source": [
        "## Netzwerke definieren"
      ]
    },
    {
      "cell_type": "markdown",
      "metadata": {
        "id": "wWTrp5bnTXIP",
        "colab_type": "text"
      },
      "source": [
        "### Generator"
      ]
    },
    {
      "cell_type": "code",
      "metadata": {
        "id": "lyxDqn0ITWXG",
        "colab_type": "code",
        "colab": {}
      },
      "source": [
        "from tensorflow.keras.layers import Dense, Conv2DTranspose, BatchNormalization, LeakyReLU, Reshape"
      ],
      "execution_count": 0,
      "outputs": []
    },
    {
      "cell_type": "code",
      "metadata": {
        "id": "JKycqBV3TdiW",
        "colab_type": "code",
        "colab": {}
      },
      "source": [
        "class Generator(tf.keras.Model):\n",
        "\n",
        "    def __init__(self, random_noise_size=100):\n",
        "        super().__init__(name=\"generator\")\n",
        "\n",
        "        # Schichten für das Netzwerk\n",
        "        self.dense_1 = Dense(units=4*4*256, input_shape=(random_noise_size,))\n",
        "        self.reshape_1 = Reshape((4, 4, 256))\n",
        "\n",
        "        self.conv2dtranspose_1 = Conv2DTranspose(\n",
        "            filters=128, kernel_size=5, strides=(2, 2), padding='same')\n",
        "        self.batchnorm_1 = BatchNormalization()\n",
        "        self.relu_1 = ReLU()\n",
        "\n",
        "        self.conv2dtranspose_2 = Conv2DTranspose(\n",
        "            filters=64, kernel_size=5, strides=(2, 2), padding='same')\n",
        "        self.batchnorm_2 = BatchNormalization()\n",
        "        self.relu_2 = ReLU()\n",
        "\n",
        "        self.conv2dtranspose_3 = Conv2DTranspose(\n",
        "            filters=32, kernel_size=5, strides=(2, 2), padding='same')\n",
        "        self.batchnorm_3 = BatchNormalization()\n",
        "        self.relu_3 = ReLU()\n",
        "\n",
        "        self.output_layer = Conv2DTranspose(\n",
        "            filters=3, kernel_size=5, strides=(2, 2), padding='same', activation='tanh')\n",
        "\n",
        "    def call(self, input_tensor):\n",
        "       # Definition des Netzwerks\n",
        "\n",
        "        x = self.dense_1(input_tensor)\n",
        "        x = self.reshape_1(x)\n",
        "        # (4, 4, 256)\n",
        "        x = self.conv2dtranspose_1(x)\n",
        "        x = self.batchnorm_1(x)\n",
        "        x = self.relu_1(x)\n",
        "        # (8, 8, 128)\n",
        "        x = self.conv2dtranspose_2(x)\n",
        "        x = self.batchnorm_2(x)\n",
        "        x = self.relu_2(x)\n",
        "        # (16, 16, 64)\n",
        "        x = self.conv2dtranspose_3(x)\n",
        "        x = self.batchnorm_3(x)\n",
        "        x = self.relu_3(x)\n",
        "        # (32, 32, 32)\n",
        "        x = self.output_layer(x)  # (64, 64, 3)\n",
        "        return x\n",
        "\n",
        "    def generate_noise(self, batch_size, random_noise_size):\n",
        "        noise = np.random.uniform(-1, 1, size=(batch_size, random_noise_size))\n",
        "        return noise\n"
      ],
      "execution_count": 0,
      "outputs": []
    },
    {
      "cell_type": "markdown",
      "metadata": {
        "id": "0VRKMs_WTe9d",
        "colab_type": "text"
      },
      "source": [
        "### Diskriminator"
      ]
    },
    {
      "cell_type": "code",
      "metadata": {
        "id": "6xIjUUxoY6_c",
        "colab_type": "code",
        "colab": {}
      },
      "source": [
        "from tensorflow.keras.layers import Conv2D, ReLU, Flatten, Dense"
      ],
      "execution_count": 0,
      "outputs": []
    },
    {
      "cell_type": "code",
      "metadata": {
        "id": "IUC7HF9YY9P0",
        "colab_type": "code",
        "colab": {}
      },
      "source": [
        "class Discriminator(tf.keras.Model):\n",
        "    def __init__(self):\n",
        "        super().__init__(name=\"discriminator\")\n",
        "\n",
        "        # Schichten für das Netzwerk\n",
        "        self.input_layer = Conv2D(filters=32, kernel_size=5, strides=(\n",
        "            2, 2), padding='same', input_shape=(64, 64, 3))\n",
        "        self.leaky_0 = LeakyReLU(alpha=0.2)\n",
        "\n",
        "        self.conv2d_1 = Conv2D(filters=64, kernel_size=5,\n",
        "                               strides=(2, 2), padding='same')\n",
        "        self.batch_norm_1 = BatchNormalization()\n",
        "        self.leaky_1 = LeakyReLU(alpha=0.2)\n",
        "\n",
        "        self.conv2d_2 = Conv2D(filters=128, kernel_size=5,\n",
        "                               strides=(2, 2), padding='same')\n",
        "        self.batch_norm_2 = BatchNormalization()\n",
        "        self.leaky_2 = LeakyReLU(alpha=0.2)\n",
        "\n",
        "        self.conv2d_3 = Conv2D(filters=256, kernel_size=5,\n",
        "                               strides=(2, 2), padding='same')\n",
        "        self.batch_norm_3 = BatchNormalization()\n",
        "        self.leaky_3 = LeakyReLU(alpha=0.2)\n",
        "\n",
        "        self.flatten = Flatten()\n",
        "        self.logits = Dense(units=1, activation='linear')\n",
        "\n",
        "    def call(self, input_tensor):\n",
        "        # Definition des Netzwerks\n",
        "        x = self.input_layer(input_tensor)\n",
        "        x = self.leaky_0(x)\n",
        "        # (32, 32, 32)\n",
        "        x = self.conv2d_1(x)\n",
        "        x = self.batch_norm_1(x)\n",
        "        x = self.leaky_1(x)\n",
        "        # (16, 16, 64)\n",
        "        x = self.conv2d_2(x)\n",
        "        x = self.batch_norm_2(x)\n",
        "        x = self.leaky_2(x)\n",
        "        # (8, 8, 128)\n",
        "        x = self.conv2d_3(x)\n",
        "        x = self.batch_norm_3(x)\n",
        "        x = self.leaky_3(x)\n",
        "        # (4, 4, 256)\n",
        "        x = self.flatten(x)\n",
        "        x = self.logits(x)\n",
        "        # (1, )\n",
        "        return x"
      ],
      "execution_count": 0,
      "outputs": []
    },
    {
      "cell_type": "code",
      "metadata": {
        "id": "BWtwiC_maZ1x",
        "colab_type": "code",
        "colab": {}
      },
      "source": [
        "generator = Generator()\n",
        "discriminator = Discriminator()"
      ],
      "execution_count": 0,
      "outputs": []
    },
    {
      "cell_type": "markdown",
      "metadata": {
        "id": "MElT_3qMhF63",
        "colab_type": "text"
      },
      "source": [
        "Ausgabe eines untrainierten Netzwerkes"
      ]
    },
    {
      "cell_type": "code",
      "metadata": {
        "id": "E6HGAaK_g6Ly",
        "colab_type": "code",
        "outputId": "59408b5a-60ec-450f-ef92-7e3172cc6292",
        "colab": {
          "base_uri": "https://localhost:8080/",
          "height": 285
        }
      },
      "source": [
        "# Testing the Generator\n",
        "noise = generator.generate_noise(batch_size=1, random_noise_size=100)\n",
        "fake_image = generator.predict(noise)\n",
        "fake_image = (fake_image + 1) / 2\n",
        "fake_image = np.clip(fake_image, 0, 1)\n",
        "plt.imshow(fake_image[0], cmap=None)\n",
        "plt.show()\n",
        "\n",
        "# Testing the Discriminator\n",
        "guess = discriminator.predict(fake_image)[0][0]\n",
        "print(guess)"
      ],
      "execution_count": 0,
      "outputs": [
        {
          "output_type": "display_data",
          "data": {
            "image/png": "[encoded data removed]",
            "text/plain": [
              "<Figure size 432x288 with 1 Axes>"
            ]
          },
          "metadata": {
            "tags": []
          }
        },
        {
          "output_type": "stream",
          "text": [
            "-3.1378284\n"
          ],
          "name": "stdout"
        }
      ]
    },
    {
      "cell_type": "markdown",
      "metadata": {
        "id": "-GrX68niaCQp",
        "colab_type": "text"
      },
      "source": [
        "## Gewichte eines trainierten Netzwerkes laden"
      ]
    },
    {
      "cell_type": "markdown",
      "metadata": {
        "id": "n_fOIRPHe9pF",
        "colab_type": "text"
      },
      "source": [
        "Nach 150 Epochen (1h 15min)"
      ]
    },
    {
      "cell_type": "code",
      "metadata": {
        "id": "S-6YluLvaTFC",
        "colab_type": "code",
        "colab": {}
      },
      "source": [
        "generator.load_weights(\"generator.h5\")\n",
        "discriminator.load_weights(\"discriminator.h5\")"
      ],
      "execution_count": 0,
      "outputs": []
    },
    {
      "cell_type": "markdown",
      "metadata": {
        "id": "ppmN3oKyamOW",
        "colab_type": "text"
      },
      "source": [
        "# Netzwerk ausführen"
      ]
    },
    {
      "cell_type": "code",
      "metadata": {
        "id": "DmaTq6J8alHJ",
        "colab_type": "code",
        "outputId": "344a64ef-739f-4280-a90d-2c9ff564845a",
        "colab": {
          "base_uri": "https://localhost:8080/",
          "height": 302
        }
      },
      "source": [
        "# Testing the Generator\n",
        "noise = generator.generate_noise(batch_size=1, random_noise_size=100)\n",
        "fake_image = generator.predict(noise)\n",
        "fake_image = (fake_image + 1) / 2\n",
        "fake_image = np.clip(fake_image, 0, 1)\n",
        "\n",
        "#plt.imshow(tf.image.resize(fake_image, (218, 178))[0], cmap=None)\n",
        "plt.imshow(fake_image[0], cmap=None)\n",
        "plt.show()\n",
        "\n",
        "# Testing the Discriminator\n",
        "guess = discriminator.predict(fake_image)[0][0]\n",
        "print(\"Echt\" if guess > 0 else f\"Fake\")\n",
        "print(guess)\n"
      ],
      "execution_count": 0,
      "outputs": [
        {
          "output_type": "display_data",
          "data": {
            "image/png": "[encoded data removed]",
            "text/plain": [
              "<Figure size 432x288 with 1 Axes>"
            ]
          },
          "metadata": {
            "tags": []
          }
        },
        {
          "output_type": "stream",
          "text": [
            "Fake\n",
            "-0.74472874\n"
          ],
          "name": "stdout"
        }
      ]
    }
  ]
}
